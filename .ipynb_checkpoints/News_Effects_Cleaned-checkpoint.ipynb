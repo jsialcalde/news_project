{
 "cells": [
  {
   "cell_type": "markdown",
   "metadata": {},
   "source": [
    "# Project Title: The Impact of News on the Market\n",
    "### •\tTeam Members:\n",
    "##### \tRachel Torres, Christian Attard, Jess Alcalde, Nitin Khade\n",
    "### •\tProject Description/Outline:\n",
    "##### -\tWe will look at news data and stock data to determine the effects of the news on how the market behaves.\n",
    "### •\tResearch Questions to Answer:\n",
    "##### -\tHow do news headlines affect the stock market?\n",
    "##### -\tIs there any correlation between certain types of headlines and effects on the market?\n",
    "##### -\tDoes negative news affect stocks greater than positive or neutral?\n",
    "##### -\tCan we assign a factor(weighting) to it?"
   ]
  },
  {
   "cell_type": "code",
   "execution_count": 1,
   "metadata": {},
   "outputs": [],
   "source": [
    "# import dependencies\n",
    "import requests\n",
    "import pandas as pd\n",
    "import numpy as np\n",
    "import matplotlib.pyplot as plt\n",
    "from pprint import pprint\n",
    "\n",
    "from news_api import api_key\n",
    "from x_api import x_api_key\n",
    "\n",
    "from vaderSentiment.vaderSentiment import SentimentIntensityAnalyzer\n",
    "analyser = SentimentIntensityAnalyzer()\n",
    "\n",
    "# Rather than rewriting code multiple times, we've created a function to call the news API and output data into a dataframe\n",
    "# preliminary work is in older notebook\n",
    "from news_pull import sentiment_scores\n",
    "from news_pull import news_pull"
   ]
  },
  {
   "cell_type": "markdown",
   "metadata": {},
   "source": [
    "### We'll query the news api to gather news headlines from the web"
   ]
  },
  {
   "cell_type": "code",
   "execution_count": null,
   "metadata": {},
   "outputs": [],
   "source": [
    "# Create newDF for general market (S&P & Nasdaq)\n",
    "genNews = news_pull('News')"
   ]
  },
  {
   "cell_type": "code",
   "execution_count": null,
   "metadata": {},
   "outputs": [],
   "source": [
    "# Create newsDF for Wayfair\n",
    "WayFairNews = news_pull('Wayfair News')"
   ]
  },
  {
   "cell_type": "code",
   "execution_count": null,
   "metadata": {},
   "outputs": [],
   "source": [
    "# Create newsDF for Wells Fargo\n",
    "WellsFargoNews = news_pull('Wells Fargo News')"
   ]
  },
  {
   "cell_type": "code",
   "execution_count": null,
   "metadata": {},
   "outputs": [],
   "source": [
    "# Create newsDF for Tesla\n",
    "TeslaNews = news_pull('Tesla News')"
   ]
  },
  {
   "cell_type": "code",
   "execution_count": null,
   "metadata": {},
   "outputs": [],
   "source": [
    "# Create newsDF for Political News\n",
    "PoliNews = news_pull('Political News')"
   ]
  },
  {
   "cell_type": "code",
   "execution_count": null,
   "metadata": {},
   "outputs": [],
   "source": [
    "# Create newsDF for Financial News\n",
    "FinNews = news_pull('Financial News')"
   ]
  },
  {
   "cell_type": "code",
   "execution_count": null,
   "metadata": {},
   "outputs": [],
   "source": [
    "import pandas as pd"
   ]
  },
  {
   "cell_type": "code",
   "execution_count": null,
   "metadata": {},
   "outputs": [],
   "source": [
    "# load in stock data\n",
    "nasdaq_data = \"nasdaq.csv\"\n",
    "nasdaq_df = pd.read_csv(nasdaq_data)\n",
    "\n",
    "\n",
    "sp500_data = \"sp500.csv\"\n",
    "sp500_df = pd.read_csv(sp500_data)\n",
    "sp500_df.head()\n",
    "\n",
    "tsla_data = \"TSLA.csv\"\n",
    "tsla_df = pd.read_csv(tsla_data)\n",
    "\n",
    "wayfair_data = \"W.csv\"\n",
    "wayfair_df = pd.read_csv(wayfair_data)\n",
    "\n",
    "wf_data = \"WFC.csv\"\n",
    "wf_df = pd.read_csv(wf_data)\n",
    "\n",
    "# Load stock data into notebook as dataframe"
   ]
  },
  {
   "cell_type": "code",
   "execution_count": null,
   "metadata": {},
   "outputs": [],
   "source": [
    "nasdaq_df.insert(0, 'Index', 'Nasdaq')\n",
    "nasdaq_df.head()\n",
    "\n",
    "sp500_df.insert(0, 'Index', 'S&P 500')\n",
    "sp500_df.head()"
   ]
  },
  {
   "cell_type": "code",
   "execution_count": null,
   "metadata": {},
   "outputs": [],
   "source": [
    "# Merge 2 DataFrames\n",
    "stock_df = pd.concat([sp500_df, nasdaq_df], ignore_index=True)\n",
    "\n",
    "#sort by date\n",
    "stock_df = stock_df.sort_values(by=['Date'])\n",
    "stock_df"
   ]
  },
  {
   "cell_type": "markdown",
   "metadata": {},
   "source": [
    "### About the Scoring (taken from vaderSentiment docs)\n",
    "The compound score is computed by summing the valence scores of each word in the lexicon, adjusted according to the rules, and then normalized to be between -1 (most extreme negative) and +1 (most extreme positive). This is the most useful metric if you want a single unidimensional measure of sentiment for a given sentence. Calling it a 'normalized, weighted composite score' is accurate.\n",
    "\n",
    "It is also useful for researchers who would like to set standardized thresholds for classifying sentences as either positive, neutral, or negative. Typical threshold values (used in the literature cited on this page) are:\n",
    "\n",
    "    positive sentiment: compound score >= 0.05\n",
    "    neutral sentiment: (compound score > -0.05) and (compound score < 0.05)\n",
    "    negative sentiment: compound score <= -0.05\n",
    "The pos, neu, and neg scores are ratios for proportions of text that fall in each category (so these should all add up to be 1... or close to it with float operation). These are the most useful metrics if you want multidimensional measures of sentiment for a given sentence."
   ]
  },
  {
   "cell_type": "code",
   "execution_count": null,
   "metadata": {},
   "outputs": [],
   "source": [
    "stock_df['Delta'] = (stock_df.Open - stock_df.Close)*100/stock_df.Open"
   ]
  },
  {
   "cell_type": "code",
   "execution_count": null,
   "metadata": {},
   "outputs": [],
   "source": [
    "stock_df.head()"
   ]
  },
  {
   "cell_type": "code",
   "execution_count": null,
   "metadata": {},
   "outputs": [],
   "source": [
    "genNews.head()"
   ]
  },
  {
   "cell_type": "code",
   "execution_count": null,
   "metadata": {},
   "outputs": [],
   "source": [
    "# change data type of sentiment score to numeric\n",
    "genNews.sentiment_score = pd.to_numeric(genNews.sentiment_score)\n",
    "\n",
    "# change name of date column to match stock DF\n",
    "genNews = genNews.rename(columns = {'datePublished':'Date'})\n"
   ]
  },
  {
   "cell_type": "code",
   "execution_count": null,
   "metadata": {},
   "outputs": [],
   "source": [
    "genNewsSummary = genNews.groupby('Date')['sentiment_score'].mean()"
   ]
  },
  {
   "cell_type": "code",
   "execution_count": null,
   "metadata": {},
   "outputs": [],
   "source": [
    "genNewsSummary"
   ]
  },
  {
   "cell_type": "code",
   "execution_count": null,
   "metadata": {},
   "outputs": [],
   "source": [
    "# format date column of stock_df\n",
    "stock_df.Date = pd.to_datetime(stock_df.Date)\n",
    "stock_df.Date = stock_df.Date.dt.strftime('%m/%d/%Y') "
   ]
  },
  {
   "cell_type": "code",
   "execution_count": null,
   "metadata": {},
   "outputs": [],
   "source": [
    "stock_df.head()"
   ]
  },
  {
   "cell_type": "code",
   "execution_count": null,
   "metadata": {},
   "outputs": [],
   "source": [
    "# Merge 2 dataframes on Date\n",
    "genNewsCombined = pd.merge(stock_df,genNewsSummary, on = 'Date', how = 'inner')"
   ]
  },
  {
   "cell_type": "code",
   "execution_count": null,
   "metadata": {},
   "outputs": [],
   "source": [
    "genNewsCombined"
   ]
  },
  {
   "cell_type": "code",
   "execution_count": null,
   "metadata": {},
   "outputs": [],
   "source": [
    "# Use Matplotlib and stats to generate graphs and look for relationships"
   ]
  }
 ],
 "metadata": {
  "kernelspec": {
   "display_name": "Python 3",
   "language": "python",
   "name": "python3"
  },
  "language_info": {
   "codemirror_mode": {
    "name": "ipython",
    "version": 3
   },
   "file_extension": ".py",
   "mimetype": "text/x-python",
   "name": "python",
   "nbconvert_exporter": "python",
   "pygments_lexer": "ipython3",
   "version": "3.7.3"
  }
 },
 "nbformat": 4,
 "nbformat_minor": 2
}
